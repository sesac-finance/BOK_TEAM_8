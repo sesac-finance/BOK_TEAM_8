{
 "cells": [
  {
   "cell_type": "code",
   "execution_count": null,
   "metadata": {},
   "outputs": [],
   "source": [
    "import scrapy\n",
    "import time\n",
    "import csv\n",
    "from newscrawling.items import NewscrawlingItem\n",
    " \n",
    "class NewsUrlSpider(scrapy.Spider):\n",
    "    name = \"interest\"\n",
    " \n",
    "    def start_requests(self):\n",
    "        headers= {\n",
    "        'user-agent': 'Mozilla/5.0 (Windows NT 10.0; Win64; x64) AppleWebKit/537.36 (KHTML, like Gecko) Chrome/107.0.0.0 Safari/537.36'}\n",
    "        urls = 'https://finance.naver.com/research/debenture_list.naver?&page=1'\n",
    "\n",
    "    \n",
    "        for url in urls:\n",
    "            yield scrapy.Request(url=url, headers=headers)\n",
    " \n",
    "    def parse(self, response):\n",
    "        print(response.text)\n",
    "        news_lists = response.css('list_news > bx')\n",
    "        for news_list in news_lists:\n",
    "            print(news_list)\n",
    "            title = news_list.css()\n",
    "            print('title: ',title)\n",
    "\n",
    "\n",
    "            "
   ]
  }
 ],
 "metadata": {
  "kernelspec": {
   "display_name": "Python 3.10.4 ('study')",
   "language": "python",
   "name": "python3"
  },
  "language_info": {
   "name": "python",
   "version": "3.10.4"
  },
  "orig_nbformat": 4,
  "vscode": {
   "interpreter": {
    "hash": "0366d95cfe3e294a9405a60bcbbb3d4cd1344975bbb420614b4c3178f22fa862"
   }
  }
 },
 "nbformat": 4,
 "nbformat_minor": 2
}
