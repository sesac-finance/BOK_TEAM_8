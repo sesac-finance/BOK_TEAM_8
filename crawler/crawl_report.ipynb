{
 "cells": [
  {
   "cell_type": "code",
   "execution_count": 2,
   "metadata": {},
   "outputs": [],
   "source": [
    "from tika import parser\n",
    "import os\n",
    "\n",
    "file_list = os.listdir('./git_pull/report/pdf/')\n",
    "\n",
    "for file in file_list:\n",
    "    pdf_path = './git_pull/report/pdf/' + file\n",
    "    parsed = parser.from_file(pdf_path)\n",
    "\n",
    "    txt = open('./git_pull/report/txt/' + file + '.txt', 'w', encoding='utf-8')\n",
    "\n",
    "    print(parsed['content'], file=txt)\n",
    "    txt.close()"
   ]
  },
  {
   "cell_type": "code",
   "execution_count": 4,
   "metadata": {},
   "outputs": [
    {
     "name": "stdout",
     "output_type": "stream",
     "text": [
      "성공\n"
     ]
    }
   ],
   "source": [
    "files = os.listdir('./git_pull/report/txt/')\n",
    "\n",
    "directory = './git_pull/report/txt/'\n",
    "outfile_name = 'report_merged.txt'\n",
    "out_file = open(outfile_name, 'w')\n",
    "input_files = os.listdir(directory)\n",
    "\n",
    "for file in input_files:\n",
    "    file = open(directory + '/' + file)\n",
    "    content = file.read()\n",
    "    out_file.write(content + '\\n\\n')\n",
    "    file.close()\n",
    "\n",
    "out_file.close()\n",
    "print('성공')"
   ]
  },
  {
   "cell_type": "code",
   "execution_count": null,
   "metadata": {},
   "outputs": [],
   "source": []
  }
 ],
 "metadata": {
  "kernelspec": {
   "display_name": "Python 3.10.4 ('study')",
   "language": "python",
   "name": "python3"
  },
  "language_info": {
   "codemirror_mode": {
    "name": "ipython",
    "version": 3
   },
   "file_extension": ".py",
   "mimetype": "text/x-python",
   "name": "python",
   "nbconvert_exporter": "python",
   "pygments_lexer": "ipython3",
   "version": "3.10.4"
  },
  "orig_nbformat": 4,
  "vscode": {
   "interpreter": {
    "hash": "cb4c771d2b7d5038105c976dd9221a14d2ed11faefce710584d680a583d2c929"
   }
  }
 },
 "nbformat": 4,
 "nbformat_minor": 2
}
